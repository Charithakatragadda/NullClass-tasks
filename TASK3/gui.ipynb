{
 "cells": [
  {
   "cell_type": "code",
   "execution_count": 1,
   "metadata": {},
   "outputs": [],
   "source": [
    "import sys\n",
    "from PyQt5.QtWidgets import QApplication, QWidget, QLabel, QVBoxLayout, QPushButton, QFileDialog\n",
    "from PyQt5.QtCore import Qt\n",
    "from PyQt5.QtGui import QPixmap\n",
    "from keras import models\n",
    "from PIL import Image\n",
    "import numpy as np\n",
    "import pandas as pd\n",
    "import os\n",
    "from tensorflow.keras.models import load_model"
   ]
  },
  {
   "cell_type": "code",
   "execution_count": null,
   "metadata": {},
   "outputs": [
    {
     "name": "stdout",
     "output_type": "stream",
     "text": [
      "\u001b[1m1/1\u001b[0m \u001b[32m━━━━━━━━━━━━━━━━━━━━\u001b[0m\u001b[37m\u001b[0m \u001b[1m1s\u001b[0m 620ms/step\n"
     ]
    },
    {
     "name": "stderr",
     "output_type": "stream",
     "text": [
      "C:\\Users\\chari\\AppData\\Local\\Temp\\ipykernel_12164\\551691345.py:8: DeprecationWarning: Conversion of an array with ndim > 0 to a scalar is deprecated, and will error in future. Ensure you extract a single element from your array before performing this operation. (Deprecated NumPy 1.25.)\n",
      "  age = int(np.round(pred[1][0])) if pred[1].ndim > 0 else int(pred[1])\n"
     ]
    },
    {
     "name": "stdout",
     "output_type": "stream",
     "text": [
      "\u001b[1m1/1\u001b[0m \u001b[32m━━━━━━━━━━━━━━━━━━━━\u001b[0m\u001b[37m\u001b[0m \u001b[1m0s\u001b[0m 54ms/step\n"
     ]
    },
    {
     "name": "stderr",
     "output_type": "stream",
     "text": [
      "C:\\Users\\chari\\AppData\\Local\\Temp\\ipykernel_12164\\551691345.py:8: DeprecationWarning: Conversion of an array with ndim > 0 to a scalar is deprecated, and will error in future. Ensure you extract a single element from your array before performing this operation. (Deprecated NumPy 1.25.)\n",
      "  age = int(np.round(pred[1][0])) if pred[1].ndim > 0 else int(pred[1])\n"
     ]
    },
    {
     "name": "stdout",
     "output_type": "stream",
     "text": [
      "\u001b[1m1/1\u001b[0m \u001b[32m━━━━━━━━━━━━━━━━━━━━\u001b[0m\u001b[37m\u001b[0m \u001b[1m0s\u001b[0m 52ms/step\n"
     ]
    },
    {
     "name": "stderr",
     "output_type": "stream",
     "text": [
      "C:\\Users\\chari\\AppData\\Local\\Temp\\ipykernel_12164\\551691345.py:8: DeprecationWarning: Conversion of an array with ndim > 0 to a scalar is deprecated, and will error in future. Ensure you extract a single element from your array before performing this operation. (Deprecated NumPy 1.25.)\n",
      "  age = int(np.round(pred[1][0])) if pred[1].ndim > 0 else int(pred[1])\n"
     ]
    },
    {
     "name": "stdout",
     "output_type": "stream",
     "text": [
      "\u001b[1m1/1\u001b[0m \u001b[32m━━━━━━━━━━━━━━━━━━━━\u001b[0m\u001b[37m\u001b[0m \u001b[1m0s\u001b[0m 46ms/step\n"
     ]
    },
    {
     "name": "stderr",
     "output_type": "stream",
     "text": [
      "C:\\Users\\chari\\AppData\\Local\\Temp\\ipykernel_12164\\551691345.py:8: DeprecationWarning: Conversion of an array with ndim > 0 to a scalar is deprecated, and will error in future. Ensure you extract a single element from your array before performing this operation. (Deprecated NumPy 1.25.)\n",
      "  age = int(np.round(pred[1][0])) if pred[1].ndim > 0 else int(pred[1])\n"
     ]
    }
   ],
   "source": [
    "model = load_model(r\"C:\\Users\\chari\\Desktop\\Age and Gender Detector\\Age-Gender-Detector\\Age and Gender Detection1.keras\")\n",
    "def predict_age_gender(image):\n",
    "    image=image.astype('float32') / 255.0\n",
    "    image=np.expand_dims(image, axis=0)\n",
    "    pred=model.predict(image)\n",
    "    age=int(np.round(pred[1][0])) if pred[1].ndim > 0 else int(pred[1])\n",
    "    gender=\"Female\" if pred[0][0] > 0.5 else \"Male\"\n",
    "    return age, gender\n",
    "def save_to_csv(age, gender, is_senior):\n",
    "    file_name = 'senior_citizens_log.csv'\n",
    "    columns = ['Age', 'Gender', 'Senior Citizen']\n",
    "    if os.path.exists(file_name):\n",
    "        data = pd.read_csv(file_name)\n",
    "    else:\n",
    "        data = pd.DataFrame(columns=columns)\n",
    "    new_data = pd.DataFrame([{\n",
    "        'Age': age,\n",
    "        'Gender': gender,\n",
    "        'Senior Citizen': is_senior\n",
    "    }])\n",
    "    data = pd.concat([data, new_data], ignore_index=True)\n",
    "    data.to_csv(file_name, index=False)\n",
    "class AgeGenderDetectorApp(QWidget):\n",
    "    def __init__(self):\n",
    "        super().__init__()\n",
    "        self.setWindowTitle(\"Age & Gender Predictor\")\n",
    "        self.setGeometry(200, 200, 600, 800)\n",
    "        self.setStyleSheet(\"background-color: #F6F1F1;\")\n",
    "\n",
    "        self.heading = QLabel(\"Age & Gender Detection\", self)\n",
    "        self.heading.setStyleSheet(\"font: bold 28px 'Segoe UI'; color: #5D3891; padding: 15px;\")\n",
    "        self.heading.setAlignment(Qt.AlignCenter)\n",
    "\n",
    "        self.image_label = QLabel(self)\n",
    "        self.image_label.setStyleSheet(\"background-color: #E8E2E2; border-radius: 12px;\")\n",
    "        self.image_label.setAlignment(Qt.AlignCenter)\n",
    "\n",
    "        self.label1 = QLabel(self)\n",
    "        self.label1.setStyleSheet(\"font: 16px 'Segoe UI'; color: #3A3A3A; padding: 10px;\")\n",
    "        self.label1.setAlignment(Qt.AlignCenter)\n",
    "\n",
    "        self.label2 = QLabel(self)\n",
    "        self.label2.setStyleSheet(\"font: 16px 'Segoe UI'; color: #3A3A3A; padding: 10px;\")\n",
    "        self.label2.setAlignment(Qt.AlignCenter)\n",
    "\n",
    "        self.layout = QVBoxLayout()\n",
    "        self.layout.addWidget(self.heading)\n",
    "        self.layout.addWidget(self.image_label)\n",
    "        self.layout.addWidget(self.label1)\n",
    "        self.layout.addWidget(self.label2)\n",
    "\n",
    "        self.upload_button = QPushButton(\"Upload an Image\", self)\n",
    "        self.upload_button.setStyleSheet(\"\"\"\n",
    "            QPushButton {\n",
    "                background-color: #8D72E1;\n",
    "                color: white;\n",
    "                font: bold 16px 'Segoe UI';\n",
    "                padding: 12px;\n",
    "                border-radius: 8px;\n",
    "            }\n",
    "            QPushButton:hover {\n",
    "                background-color: #5D3891;\n",
    "            }\n",
    "        \"\"\")\n",
    "        self.upload_button.clicked.connect(self.upload_image)\n",
    "        self.layout.addWidget(self.upload_button)\n",
    "\n",
    "        self.setLayout(self.layout)\n",
    "    def upload_image(self):\n",
    "        file_path, _ =QFileDialog.getOpenFileName(self, \"Upload Image\", \"\", \"Image Files (*.png *.jpg *.jpeg)\")\n",
    "        if file_path:\n",
    "            pixmap =QPixmap(file_path)\n",
    "            self.image_label.setPixmap(pixmap.scaled(400, 400, Qt.KeepAspectRatio))\n",
    "            self.detect_image(file_path)\n",
    "    def detect_image(self, file_path):\n",
    "        image=Image.open(file_path).resize((48, 48))\n",
    "        image=np.array(image)\n",
    "        age, gender=predict_age_gender(image)\n",
    "        is_senior=age>=60\n",
    "        # Update labels\n",
    "        self.label1.setText(f\"Predicted Age: {age}\")\n",
    "        self.label2.setText(f\"Predicted Gender: {gender}, Senior Citizen: {'Yes' if is_senior else 'No'}\")\n",
    "        # Save to CSV\n",
    "        save_to_csv(age, gender, is_senior)\n",
    "if __name__ == \"__main__\":\n",
    "    app = QApplication([])\n",
    "    window = AgeGenderDetectorApp()\n",
    "    window.show()\n",
    "    app.exec_()"
   ]
  }
 ],
 "metadata": {
  "kernelspec": {
   "display_name": "Python 3",
   "language": "python",
   "name": "python3"
  },
  "language_info": {
   "codemirror_mode": {
    "name": "ipython",
    "version": 3
   },
   "file_extension": ".py",
   "mimetype": "text/x-python",
   "name": "python",
   "nbconvert_exporter": "python",
   "pygments_lexer": "ipython3",
   "version": "3.11.9"
  }
 },
 "nbformat": 4,
 "nbformat_minor": 2
}
